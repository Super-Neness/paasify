{
 "cells": [
  {
   "cell_type": "markdown",
   "id": "137310b3",
   "metadata": {},
   "source": [
    "# Learn 101\n",
    "\n",
    "\n",
    "This tutorial is supposed to help you to familiarize with paasify.\n",
    "\n",
    "Let's start!\n",
    "\n",
    "## Create new project"
   ]
  },
  {
   "cell_type": "code",
   "execution_count": 1,
   "id": "3980bede",
   "metadata": {},
   "outputs": [],
   "source": [
    "mkdir -p examples/ex1\n",
    "cd examples/ex1"
   ]
  },
  {
   "cell_type": "code",
   "execution_count": 2,
   "id": "d822f911",
   "metadata": {},
   "outputs": [
    {
     "name": "stdout",
     "output_type": "stream",
     "text": [
      "/home/jez/prj/mrjk/POC/paasify3/docs/src/howto/examples/ex1\n"
     ]
    }
   ],
   "source": [
    "echo $PWD"
   ]
  },
  {
   "cell_type": "markdown",
   "id": "e887555d",
   "metadata": {},
   "source": [
    "Let's create a very basic project:"
   ]
  },
  {
   "cell_type": "code",
   "execution_count": 3,
   "id": "9a9096e6",
   "metadata": {},
   "outputs": [
    {
     "name": "stdout",
     "output_type": "stream",
     "text": [
      "\n",
      "stacks:\n",
      "  - name: wordpress\n",
      "\n"
     ]
    }
   ],
   "source": [
    "cat <<EOF > paasify.yml\n",
    "\n",
    "stacks:\n",
    "  - name: wordpress\n",
    "\n",
    "EOF\n",
    "\n",
    "cat paasify.yml"
   ]
  },
  {
   "cell_type": "markdown",
   "id": "88cabc4f",
   "metadata": {},
   "source": [
    "Let's show what paasify says:"
   ]
  },
  {
   "cell_type": "code",
   "execution_count": 4,
   "id": "c70e6b36",
   "metadata": {},
   "outputs": [
    {
     "name": "stdout",
     "output_type": "stream",
     "text": [
      "Paasify App Info:\n",
      "==================\n",
      "  cwd: /home/jez/volumes/data/prj/mrjk/POC/paasify3/docs/src/howto/examples/ex1\n",
      "  project lookup dir: /home/jez/volumes/data/prj/mrjk/POC/paasify3/docs/src/howto/examples/ex1\n",
      "{'_runtime': {'config_file': '/home/jez/volumes/data/prj/mrjk/POC/paasify3/docs/src/howto/examples/ex1/paasify.yml',\n",
      "              'cwd': '/home/jez/volumes/data/prj/mrjk/POC/paasify3/docs/src/howto/examples/ex1',\n",
      "              'default_source': 'default',\n",
      "              'engine': None,\n",
      "              'filenames': ['paasify.yml', 'paasify.yaml'],\n",
      "              'root_path': '/home/jez/volumes/data/prj/mrjk/POC/paasify3/docs/src/howto/examples/ex1',\n",
      "              'working_dir': '/home/jez/volumes/data/prj/mrjk/POC/paasify3/docs/src/howto/examples/ex1'},\n",
      " 'stacks': [{'name': 'wordpress'}]}\n",
      " WARNING: | | Build ProjectRuntime\n",
      "\n",
      "Paasify Project Info:\n",
      "==================\n",
      "  root_path: /home/jez/volumes/data/prj/mrjk/POC/paasify3/docs/src/howto/examples/ex1\n",
      "  config_file: /home/jez/volumes/data/prj/mrjk/POC/paasify3/docs/src/howto/examples/ex1/paasify.yml\n",
      "  project_root_dir: /home/jez/volumes/data/prj/mrjk/POC/paasify3/docs/src/howto/examples\n",
      "  project_private_dir: /home/jez/volumes/data/prj/mrjk/POC/paasify3/docs/src/howto/examples/ex1/.paasify\n",
      "  project_collection_dir: /home/jez/volumes/data/prj/mrjk/POC/paasify3/docs/src/howto/examples/ex1/.paasify/collections\n",
      "  project_jsonnet_dir: /home/jez/volumes/data/prj/mrjk/POC/paasify3/docs/src/howto/examples/ex1/.paasify/plugins\n",
      "  namespace: ex1\n",
      "  engine: None\n",
      "  default_source: default\n",
      "  cwd: /home/jez/volumes/data/prj/mrjk/POC/paasify3/docs/src/howto/examples/ex1\n",
      "  working_dir: /home/jez/volumes/data/prj/mrjk/POC/paasify3/docs/src/howto/examples/ex1\n",
      "  filenames: ['paasify.yml', 'paasify.yaml']\n"
     ]
    }
   ],
   "source": [
    "paasify2 info"
   ]
  },
  {
   "cell_type": "markdown",
   "id": "deb1739e",
   "metadata": {},
   "source": [
    "## Start stack\n",
    "\n",
    "TODO:"
   ]
  },
  {
   "cell_type": "code",
   "execution_count": 6,
   "id": "3853b2c7",
   "metadata": {},
   "outputs": [
    {
     "name": "stdout",
     "output_type": "stream",
     "text": [
      "{'_runtime': {'config_file': '/home/jez/volumes/data/prj/mrjk/POC/paasify3/docs/src/howto/examples/ex1/paasify.yml',\n",
      "              'cwd': '/home/jez/volumes/data/prj/mrjk/POC/paasify3/docs/src/howto/examples/ex1',\n",
      "              'default_source': 'default',\n",
      "              'engine': None,\n",
      "              'filenames': ['paasify.yml', 'paasify.yaml'],\n",
      "              'root_path': '/home/jez/volumes/data/prj/mrjk/POC/paasify3/docs/src/howto/examples/ex1',\n",
      "              'working_dir': '/home/jez/volumes/data/prj/mrjk/POC/paasify3/docs/src/howto/examples/ex1'},\n",
      " 'stacks': [{'name': 'wordpress'}]}\n",
      " WARNING: | | Build ProjectRuntime\n",
      "Build the stack: PaasifyStack:wordpress\n",
      "   ERROR: Traceback (most recent call last):\n",
      "            File \"/home/jez/volumes/data/prj/mrjk/POC/paasify3/paasify/cli.py\", line 388, in app\n",
      "              cli_app()\n",
      "            File \"/home/jez/volumes/data/prj/mrjk/POC/paasify3/.direnv/python-3.9.12/lib/python3.9/site-packages/typer/main.py\", line 328, in __call__\n",
      "              raise e\n",
      "            File \"/home/jez/volumes/data/prj/mrjk/POC/paasify3/.direnv/python-3.9.12/lib/python3.9/site-packages/typer/main.py\", line 311, in __call__\n",
      "              return get_command(self)(*args, **kwargs)\n",
      "            File \"/home/jez/volumes/data/prj/mrjk/POC/paasify3/.direnv/python-3.9.12/lib/python3.9/site-packages/click/core.py\", line 1130, in __call__\n",
      "              return self.main(*args, **kwargs)\n",
      "            File \"/home/jez/volumes/data/prj/mrjk/POC/paasify3/.direnv/python-3.9.12/lib/python3.9/site-packages/typer/core.py\", line 778, in main\n",
      "              return _main(\n",
      "            File \"/home/jez/volumes/data/prj/mrjk/POC/paasify3/.direnv/python-3.9.12/lib/python3.9/site-packages/typer/core.py\", line 216, in _main\n",
      "              rv = self.invoke(ctx)\n",
      "            File \"/home/jez/volumes/data/prj/mrjk/POC/paasify3/.direnv/python-3.9.12/lib/python3.9/site-packages/click/core.py\", line 1657, in invoke\n",
      "              return _process_result(sub_ctx.command.invoke(sub_ctx))\n",
      "            File \"/home/jez/volumes/data/prj/mrjk/POC/paasify3/.direnv/python-3.9.12/lib/python3.9/site-packages/click/core.py\", line 1404, in invoke\n",
      "              return ctx.invoke(self.callback, **ctx.params)\n",
      "            File \"/home/jez/volumes/data/prj/mrjk/POC/paasify3/.direnv/python-3.9.12/lib/python3.9/site-packages/click/core.py\", line 760, in invoke\n",
      "              return __callback(*args, **kwargs)\n",
      "            File \"/home/jez/volumes/data/prj/mrjk/POC/paasify3/.direnv/python-3.9.12/lib/python3.9/site-packages/typer/main.py\", line 683, in wrapper\n",
      "              return callback(**use_params)  # type: ignore\n",
      "            File \"/home/jez/volumes/data/prj/mrjk/POC/paasify3/paasify/cli.py\", line 272, in build\n",
      "              prj.cmd_stack_cmd(\"assemble\", stacks=stack)\n",
      "            File \"/home/jez/volumes/data/prj/mrjk/POC/paasify3/paasify/projects.py\", line 345, in cmd_stack_cmd\n",
      "              fun()\n",
      "            File \"/home/jez/volumes/data/prj/mrjk/POC/paasify3/paasify/stacks2.py\", line 505, in assemble\n",
      "              assert len(self.prj.sources.get_children()) > 0, f\"Missing default source!\"\n",
      "          AssertionError: Missing default source!\n",
      "\n",
      "   ERROR: Missing default source!\n",
      "CRITICAL: Paasify exited with a BUG! (<class 'AssertionError'>, builtins.AssertionError)\n"
     ]
    },
    {
     "ename": "",
     "evalue": "1",
     "output_type": "error",
     "traceback": []
    }
   ],
   "source": [
    "paasify2 build"
   ]
  },
  {
   "cell_type": "code",
   "execution_count": null,
   "id": "6c8fc343",
   "metadata": {},
   "outputs": [],
   "source": []
  }
 ],
 "metadata": {
  "kernelspec": {
   "display_name": "Bash",
   "language": "bash",
   "name": "bash"
  },
  "language_info": {
   "codemirror_mode": "shell",
   "file_extension": ".sh",
   "mimetype": "text/x-sh",
   "name": "bash"
  }
 },
 "nbformat": 4,
 "nbformat_minor": 5
}
