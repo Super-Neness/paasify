{
 "cells": [
  {
   "cell_type": "markdown",
   "id": "137310b3",
   "metadata": {},
   "source": [
    "# Learn 101\n",
    "\n",
    "\n",
    "This tutorial is supposed to help you to familiarize with paasify.\n",
    "\n",
    "Let's start!\n",
    "\n",
    "## Create new project"
   ]
  },
  {
   "cell_type": "code",
   "execution_count": 1,
   "id": "3980bede",
   "metadata": {},
   "outputs": [],
   "source": [
    "mkdir -p examples/ex1\n",
    "cd examples/ex1"
   ]
  },
  {
   "cell_type": "code",
   "execution_count": 2,
   "id": "d822f911",
   "metadata": {},
   "outputs": [
    {
     "name": "stdout",
     "output_type": "stream",
     "text": [
      "/docs/src/jupyter/examples/ex1\n"
     ]
    }
   ],
   "source": [
    "echo $PWD"
   ]
  },
  {
   "cell_type": "markdown",
   "id": "e887555d",
   "metadata": {},
   "source": [
    "Let's create a very basic project:"
   ]
  },
  {
   "cell_type": "code",
   "execution_count": 3,
   "id": "9a9096e6",
   "metadata": {},
   "outputs": [
    {
     "name": "stdout",
     "output_type": "stream",
     "text": [
      "\n",
      "stacks:\n",
      "  - name: wordpress\n",
      "\n"
     ]
    }
   ],
   "source": [
    "cat <<EOF > paasify.yml\n",
    "\n",
    "stacks:\n",
    "  - name: wordpress\n",
    "\n",
    "EOF\n",
    "\n",
    "cat paasify.yml"
   ]
  },
  {
   "cell_type": "markdown",
   "id": "88cabc4f",
   "metadata": {},
   "source": [
    "Let's show what paasify says:"
   ]
  },
  {
   "cell_type": "code",
   "execution_count": 4,
   "id": "c70e6b36",
   "metadata": {},
   "outputs": [
    {
     "name": "stdout",
     "output_type": "stream",
     "text": [
      "Paasify App Info:\n",
      "==================\n",
      "  cwd: /docs/src/jupyter/examples/ex1\n",
      "  project lookup dir: /docs/src/jupyter/examples/ex1\n",
      "\n",
      "Paasify Project Info:\n",
      "==================\n",
      "  root_path: /docs/src/jupyter/examples/ex1\n",
      "  config_file: /docs/src/jupyter/examples/ex1/paasify.yml\n",
      "  project_root_dir: /docs/src/jupyter/examples\n",
      "  project_private_dir: /docs/src/jupyter/examples/ex1/.paasify\n",
      "  project_collection_dir: /docs/src/jupyter/examples/ex1/.paasify/collections\n",
      "  project_jsonnet_dir: /docs/src/jupyter/examples/ex1/.paasify/plugins\n",
      "  namespace: ex1\n",
      "  engine: None\n",
      "  default_source: default\n",
      "  cwd: /docs/src/jupyter/examples/ex1\n",
      "  working_dir: /docs/src/jupyter/examples/ex1\n",
      "  filenames: ['paasify.yml', 'paasify.yaml']\n"
     ]
    }
   ],
   "source": [
    "paasify info"
   ]
  },
  {
   "cell_type": "markdown",
   "id": "deb1739e",
   "metadata": {},
   "source": [
    "## Start stack\n",
    "\n",
    "Because we didn't mentionned a default source, this should fail:"
   ]
  },
  {
   "cell_type": "code",
   "execution_count": 5,
   "id": "3853b2c7",
   "metadata": {},
   "outputs": [
    {
     "name": "stdout",
     "output_type": "stream",
     "text": [
      "Build the stack: PaasifyStack:wordpress/wordpress\n",
      "   ERROR: Missing default source for stack: {'name': 'wordpress'}\n",
      "CRITICAL: Error 20: StackMissingOrigin\n"
     ]
    },
    {
     "ename": "",
     "evalue": "20",
     "output_type": "error",
     "traceback": []
    }
   ],
   "source": [
    "paasify build"
   ]
  },
  {
   "cell_type": "markdown",
   "id": "a0eaceb9",
   "metadata": {},
   "source": [
    "TODO"
   ]
  }
 ],
 "metadata": {
  "kernelspec": {
   "display_name": "Bash",
   "language": "bash",
   "name": "bash"
  },
  "language_info": {
   "codemirror_mode": "shell",
   "file_extension": ".sh",
   "mimetype": "text/x-sh",
   "name": "bash"
  }
 },
 "nbformat": 4,
 "nbformat_minor": 5
}
